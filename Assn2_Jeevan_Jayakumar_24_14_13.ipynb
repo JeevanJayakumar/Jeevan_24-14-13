{
  "cells": [
    {
      "cell_type": "markdown",
      "metadata": {
        "id": "view-in-github",
        "colab_type": "text"
      },
      "source": [
        "<a href=\"https://colab.research.google.com/github/JeevanJayakumar/Jeevan_24-14-13/blob/main/Assn2_Jeevan_Jayakumar_24_14_13.ipynb\" target=\"_parent\"><img src=\"https://colab.research.google.com/assets/colab-badge.svg\" alt=\"Open In Colab\"/></a>"
      ]
    },
    {
      "cell_type": "markdown",
      "source": [
        "Assignment 2\n",
        "\n",
        "Name: Jeevan Jayakumar\n",
        "\n",
        "Reg No: 24-14-13\n",
        "\n",
        "Programme: M.Tech Modelling & Simulation"
      ],
      "metadata": {
        "id": "cG1AC_KilF8M"
      }
    },
    {
      "cell_type": "code",
      "execution_count": 58,
      "metadata": {
        "id": "cMASVI1FZFrj"
      },
      "outputs": [],
      "source": [
        "import numpy as np\n",
        "import numpy.random as npr"
      ]
    },
    {
      "cell_type": "markdown",
      "metadata": {
        "id": "5dw-_89ycFGI"
      },
      "source": [
        "Question 1"
      ]
    },
    {
      "cell_type": "code",
      "execution_count": 102,
      "metadata": {
        "colab": {
          "base_uri": "https://localhost:8080/",
          "height": 0
        },
        "id": "9FLrnYE7Z5yj",
        "outputId": "9a44eef7-6f97-419d-dfaa-78cc7b0385aa"
      },
      "outputs": [
        {
          "output_type": "stream",
          "name": "stdout",
          "text": [
            "Q1. a\n",
            "\n",
            "var1: [ 1  2  3  4  5  6  7  8  9 10 11 12 13 14 15 16 17 18 19 20 21 22 23 24\n",
            " 25 26 27 28 29 30]\n",
            "shape= (30,)\n"
          ]
        }
      ],
      "source": [
        "# 1.a\n",
        "\n",
        "print(\"Q1. a\\n\")\n",
        "var1=np.arange(1,31)\n",
        "print(\"var1:\",var1)\n",
        "print(\"shape=\",var1.shape)"
      ]
    },
    {
      "cell_type": "code",
      "execution_count": 103,
      "metadata": {
        "colab": {
          "base_uri": "https://localhost:8080/",
          "height": 0
        },
        "id": "uUblkYCmZ_b_",
        "outputId": "ccbe1575-52a7-4342-9b36-ce5c5974e6a6"
      },
      "outputs": [
        {
          "output_type": "stream",
          "name": "stdout",
          "text": [
            "Q1. b\n",
            "\n",
            "var2: [[ 1  2  3]\n",
            " [ 4  5  6]\n",
            " [ 7  8  9]\n",
            " [10 11 12]\n",
            " [13 14 15]\n",
            " [16 17 18]\n",
            " [19 20 21]\n",
            " [22 23 24]\n",
            " [25 26 27]\n",
            " [28 29 30]]\n",
            "shape= (10, 3)\n"
          ]
        }
      ],
      "source": [
        "# 1.b\n",
        "\n",
        "print(\"Q1. b\\n\")\n",
        "var2=var1.reshape(10,3)\n",
        "print(\"var2:\",var2)\n",
        "print(\"shape=\",var2.shape)"
      ]
    },
    {
      "cell_type": "code",
      "execution_count": 104,
      "metadata": {
        "colab": {
          "base_uri": "https://localhost:8080/",
          "height": 0
        },
        "id": "KUsdG5bEdqCb",
        "outputId": "b53a5700-5c33-46f9-cf11-b420cf1f3b3e"
      },
      "outputs": [
        {
          "output_type": "stream",
          "name": "stdout",
          "text": [
            "Q1. c\n",
            "\n",
            "var3: [[[ 1  2]\n",
            "  [ 3  4]\n",
            "  [ 5  6]]\n",
            "\n",
            " [[ 7  8]\n",
            "  [ 9 10]\n",
            "  [11 12]]\n",
            "\n",
            " [[13 14]\n",
            "  [15 16]\n",
            "  [17 18]]\n",
            "\n",
            " [[19 20]\n",
            "  [21 22]\n",
            "  [23 24]]\n",
            "\n",
            " [[25 26]\n",
            "  [27 28]\n",
            "  [29 30]]]\n",
            "shape= (5, 3, 2)\n"
          ]
        }
      ],
      "source": [
        "# 1.c\n",
        "\n",
        "print(\"Q1. c\\n\")\n",
        "var3=var1.reshape(5,3,2)\n",
        "print(\"var3:\",var3)\n",
        "print(\"shape=\",var3.shape)"
      ]
    },
    {
      "cell_type": "code",
      "execution_count": 105,
      "metadata": {
        "id": "barIGag4eYq3",
        "colab": {
          "base_uri": "https://localhost:8080/",
          "height": 0
        },
        "outputId": "526da411-87f4-4d3b-d424-5fb29afb060b"
      },
      "outputs": [
        {
          "output_type": "stream",
          "name": "stdout",
          "text": [
            "Q1. d\n",
            "\n",
            "var2:\n",
            " [[ 1  2  3]\n",
            " [-1  5  6]\n",
            " [ 7  8  9]\n",
            " [10 11 12]\n",
            " [13 14 15]\n",
            " [16 17 18]\n",
            " [19 20 21]\n",
            " [22 23 24]\n",
            " [25 26 27]\n",
            " [28 29 30]] \n",
            " var1:\n",
            " [ 1  2  3 -1  5  6  7  8  9 10 11 12 13 14 15 16 17 18 19 20 21 22 23 24\n",
            " 25 26 27 28 29 30] \n",
            " var3:\n",
            " [[[ 1  2]\n",
            "  [ 3 -1]\n",
            "  [ 5  6]]\n",
            "\n",
            " [[ 7  8]\n",
            "  [ 9 10]\n",
            "  [11 12]]\n",
            "\n",
            " [[13 14]\n",
            "  [15 16]\n",
            "  [17 18]]\n",
            "\n",
            " [[19 20]\n",
            "  [21 22]\n",
            "  [23 24]]\n",
            "\n",
            " [[25 26]\n",
            "  [27 28]\n",
            "  [29 30]]]\n",
            "\n",
            "Yes,the values in var3 also changed. \n",
            "Reshape returns a view of the original array, not a copy.\n"
          ]
        }
      ],
      "source": [
        "# 1.d\n",
        "\n",
        "print(\"Q1. d\\n\")\n",
        "var2[1,0]= -1\n",
        "print(\"var2:\\n\",var2, \"\\n var1:\\n\",var1, \"\\n var3:\\n\",var3)\n",
        "\n",
        "\n",
        "print(\"\\nYes,the values in var3 also changed. \\nReshape returns a view of the original array, not a copy.\")"
      ]
    },
    {
      "cell_type": "code",
      "execution_count": 106,
      "metadata": {
        "colab": {
          "base_uri": "https://localhost:8080/",
          "height": 0
        },
        "id": "yYx5ZwTggBVX",
        "outputId": "13ad3707-5430-4f5d-c74e-d2147b8cfd3f"
      },
      "outputs": [
        {
          "output_type": "stream",
          "name": "stdout",
          "text": [
            "Q1. e\n",
            "\n",
            "sum1:\n",
            " [[ 9  7]\n",
            " [27 30]\n",
            " [45 48]\n",
            " [63 66]\n",
            " [81 84]]\n",
            "sum2:\n",
            " [[ 3  2 11]\n",
            " [15 19 23]\n",
            " [27 31 35]\n",
            " [39 43 47]\n",
            " [51 55 59]]\n",
            "sum3:\n",
            " [135 150 175]\n"
          ]
        }
      ],
      "source": [
        "# 1.e\n",
        "\n",
        "print(\"Q1. e\\n\")\n",
        "sum1=np.sum(var3,axis=1)\n",
        "print(\"sum1:\\n\",sum1)\n",
        "\n",
        "sum2=np.sum(var3,axis=2)\n",
        "print(\"sum2:\\n\",sum2)\n",
        "\n",
        "sum3=np.sum(var3,axis=(0,2))\n",
        "print(\"sum3:\\n\",sum3)"
      ]
    },
    {
      "cell_type": "code",
      "execution_count": 107,
      "metadata": {
        "colab": {
          "base_uri": "https://localhost:8080/",
          "height": 0
        },
        "id": "DpCmoucHi0Da",
        "outputId": "fe08bc83-e8ba-4135-df80-40cf60e10789"
      },
      "outputs": [
        {
          "output_type": "stream",
          "name": "stdout",
          "text": [
            "Q1. f\n",
            "\n",
            "var2 second row:  [-1  5  6]\n",
            "var2 last column:  [ 3  6  9 12 15 18 21 24 27 30]\n",
            "var2 sub matrix:\n",
            " [[2 3]\n",
            " [5 6]]\n"
          ]
        }
      ],
      "source": [
        "# 1.f\n",
        "\n",
        "print(\"Q1. f\\n\")\n",
        "print(\"var2 second row: \",var2[1])\n",
        "print(\"var2 last column: \",var2[:,-1])\n",
        "print(\"var2 sub matrix:\\n\",var2[:2,1:])"
      ]
    },
    {
      "cell_type": "markdown",
      "metadata": {
        "id": "ULLNFV6Ik7iy"
      },
      "source": [
        "Question 2"
      ]
    },
    {
      "cell_type": "code",
      "execution_count": 108,
      "metadata": {
        "colab": {
          "base_uri": "https://localhost:8080/",
          "height": 0
        },
        "id": "gQXDSSxSkyjh",
        "outputId": "ba7a573c-ca87-4ce2-9405-8c168582db2d"
      },
      "outputs": [
        {
          "output_type": "stream",
          "name": "stdout",
          "text": [
            "Q2. a\n",
            "\n",
            "[ 1  2  3  4  5  6  7  8  9 10]\n"
          ]
        }
      ],
      "source": [
        "# 2.a\n",
        "\n",
        "print(\"Q2. a\\n\")\n",
        "vector1=np.arange(10)\n",
        "vector1=vector1+1\n",
        "print(vector1)"
      ]
    },
    {
      "cell_type": "code",
      "execution_count": 109,
      "metadata": {
        "colab": {
          "base_uri": "https://localhost:8080/",
          "height": 0
        },
        "id": "VCCOIcQ7lDeu",
        "outputId": "3b4a2b9c-65cd-4b3e-92dd-294ae7b4b709"
      },
      "outputs": [
        {
          "output_type": "stream",
          "name": "stdout",
          "text": [
            "Q2. b\n",
            "\n",
            "[[ 2  3  4  5  6  7  8  9 10 11]\n",
            " [ 3  4  5  6  7  8  9 10 11 12]\n",
            " [ 4  5  6  7  8  9 10 11 12 13]\n",
            " [ 5  6  7  8  9 10 11 12 13 14]\n",
            " [ 6  7  8  9 10 11 12 13 14 15]\n",
            " [ 7  8  9 10 11 12 13 14 15 16]\n",
            " [ 8  9 10 11 12 13 14 15 16 17]\n",
            " [ 9 10 11 12 13 14 15 16 17 18]\n",
            " [10 11 12 13 14 15 16 17 18 19]\n",
            " [11 12 13 14 15 16 17 18 19 20]]\n"
          ]
        }
      ],
      "source": [
        "# 2.b\n",
        "\n",
        "print(\"Q2. b\\n\")\n",
        "A=vector1.reshape(10,1)+ vector1\n",
        "print(A)"
      ]
    },
    {
      "cell_type": "code",
      "execution_count": 110,
      "metadata": {
        "colab": {
          "base_uri": "https://localhost:8080/",
          "height": 0
        },
        "id": "nyx2tbyilVbP",
        "outputId": "0b3a3fd0-5035-4db9-8180-c66227a1fb92"
      },
      "outputs": [
        {
          "output_type": "stream",
          "name": "stdout",
          "text": [
            "Q2. c\n",
            "\n",
            "data:\n",
            " [[ 1.45872846  0.42984675  0.54870967  1.90782459  0.5170894 ]\n",
            " [ 0.62891035  0.60949598  0.46801776  0.03436241  1.35294646]\n",
            " [ 7.36782686  4.02315263  3.93180685  0.752586    2.38876862]\n",
            " [ 1.79357897  1.34469621  0.56751154  1.37574345  2.20387201]\n",
            " [ 2.21823319  1.46437335  1.45713453  2.42202107  1.20572816]\n",
            " [ 2.52133373  0.62499063  0.17949526  0.5544297   4.33432364]\n",
            " [ 0.40340837  0.43044262  0.25275661  0.36451491  2.29172857]\n",
            " [ 2.0574004   0.82226231  3.39700895  0.45162881  1.92220862]\n",
            " [ 1.00532073  1.09301601  2.51757043  1.5881438   0.38172652]\n",
            " [ 1.88358599  1.26117613  0.10063896  0.83967145  0.84407268]\n",
            " [ 1.15350909  2.23168822  0.36522098  1.00152946  3.12377386]\n",
            " [ 0.25229619  1.11642703  0.44600676  0.21643448  1.80363493]\n",
            " [ 2.43184756  0.07502093  0.59164013  1.82148224  1.18390412]\n",
            " [ 1.06427074  1.79833188  0.59281252  1.83294959  0.42012525]\n",
            " [ 0.64390591  0.87073808  0.69795832  1.2751196   0.36439393]\n",
            " [ 0.16416103  0.11679262  0.76320393  1.16718256  1.14950339]\n",
            " [ 0.65881999  3.00991485  0.81534299  0.41164702  0.41190508]\n",
            " [ 0.52191516  0.22554193  0.12791594  1.60579828  2.20858128]\n",
            " [ 0.64803576  1.39590093  0.33110438  0.11342339  0.45391414]\n",
            " [ 0.93569247  0.55756404  1.1330928   2.85557246  0.73238059]\n",
            " [ 6.28226551  1.29330385  0.32872101  6.38731822  2.15423811]\n",
            " [ 1.57122724  3.52047716  2.49896482  1.60464355  1.20559773]\n",
            " [ 1.44304703  1.39870723  0.90428912  1.98350468  1.01919418]\n",
            " [ 0.20227099  0.31655146  0.59971047  0.90730416  1.17676099]\n",
            " [ 1.63964588  0.30915521  0.45083945  0.56194006  0.6645424 ]\n",
            " [ 0.51250232  1.77033308  0.32918401  1.14027949  0.89346241]\n",
            " [ 0.47947403  1.05572428  0.69842252  0.11075481  2.16512753]\n",
            " [ 0.45129013  0.53776234  1.57861285  5.96640096  2.78246157]\n",
            " [ 0.88224885  1.49490924  0.64257815  2.98110259  0.53349814]\n",
            " [ 0.83116694  3.21958195  1.62663914  2.73523829  0.53091791]\n",
            " [ 0.54480594  4.56883683  1.88029373  0.21388815  1.74535272]\n",
            " [ 0.40037861  0.16253527  0.78433424  5.61879066  0.33601546]\n",
            " [ 2.33390614  6.11912958  1.22652295  1.94062479  0.63574314]\n",
            " [ 4.61889413 15.47220171  1.87794235  1.57649423  0.55694884]\n",
            " [ 3.85665152  5.24277694  0.18260995  1.20136053  1.15014208]\n",
            " [ 0.19308378  1.47032573  1.65288378  1.60218708  1.54354166]\n",
            " [ 0.74718761  4.05966361  3.55448624  1.92614666  3.47152857]\n",
            " [ 2.13233769  0.50070402  0.21157793  0.11104767  1.17610453]\n",
            " [ 2.76431729  1.88894824  0.94131675  0.29042701  3.09326973]\n",
            " [ 2.15236076  0.6164059   0.19543012  0.12276658  0.69071358]\n",
            " [ 1.34793878  0.47284444  0.76888825  0.3770098   0.40786422]\n",
            " [ 1.12692635  0.86757754  0.83933959  5.71776566  5.51049381]\n",
            " [ 0.72067794  0.53676551  2.83423306  1.81754241  1.35576161]\n",
            " [ 0.1976332   0.92683593  3.19816972  4.06656377  2.15246675]\n",
            " [ 0.30927403  0.26236676  0.70972442  0.46132683  0.2971405 ]\n",
            " [ 0.48271427  0.87229769  2.02318529  1.72991353  2.07948629]\n",
            " [ 0.37600377  1.22010237  2.73412912  1.14877126  1.06910666]\n",
            " [ 4.35389941  1.83293419  2.43130415  0.63364957  0.18968241]\n",
            " [ 2.7710937   3.57197466  0.24624203  2.80701316  0.39330115]\n",
            " [ 3.10074315  0.64889046  3.60426406  1.04643892  0.18770492]] \n",
            "shape: (50, 5)\n"
          ]
        }
      ],
      "source": [
        "# 2.c\n",
        "\n",
        "print(\"Q2. c\\n\")\n",
        "data = np.exp(npr.randn(50,5))\n",
        "print(\"data:\\n\",data,\"\\nshape:\",data.shape)"
      ]
    },
    {
      "cell_type": "code",
      "execution_count": 111,
      "metadata": {
        "colab": {
          "base_uri": "https://localhost:8080/",
          "height": 0
        },
        "id": "3S5TnYY3luZx",
        "outputId": "9ff965d6-1d6b-4bb9-d9ad-ddda4a420ebb"
      },
      "outputs": [
        {
          "output_type": "stream",
          "name": "stdout",
          "text": [
            "Q2. e\n",
            "\n",
            "Mean:  [1.57277496 1.79463993 1.21679577 1.62760561 1.40925502]\n",
            "Standard deviation:  [1.52490779 2.39876404 1.06376714 1.54282083 1.11208936]\n"
          ]
        }
      ],
      "source": [
        "# 2.e\n",
        "\n",
        "print(\"Q2. e\\n\")\n",
        "mean=np.mean(data,axis=0)\n",
        "std=np.std(data,axis=0)\n",
        "print(\"Mean: \",mean)\n",
        "print(\"Standard deviation: \",std)"
      ]
    },
    {
      "cell_type": "code",
      "execution_count": 112,
      "metadata": {
        "id": "ZP4HowfSlxWR",
        "colab": {
          "base_uri": "https://localhost:8080/",
          "height": 0
        },
        "outputId": "d340cf91-4c7d-4f1f-961b-fed21d0b4827"
      },
      "outputs": [
        {
          "output_type": "stream",
          "name": "stdout",
          "text": [
            "Q2. f\n",
            "\n",
            "Normalized mean:  [ 1.33226763e-17 -3.84137167e-16  8.88178420e-17  3.99680289e-17\n",
            " -7.10542736e-17]\n",
            "Normalaized std deviation:  [1. 1. 1. 1. 1.]\n"
          ]
        }
      ],
      "source": [
        "# 2.f\n",
        "print(\"Q2. f\\n\")\n",
        "normalized=(data-mean)/std\n",
        "print(\"Normalized mean: \",np.mean(normalized,axis=0))\n",
        "print(\"Normalaized std deviation: \",np.std(normalized,axis=0))\n"
      ]
    },
    {
      "cell_type": "markdown",
      "source": [
        "Question 3\n"
      ],
      "metadata": {
        "id": "Dcr9AFb9aUlh"
      }
    },
    {
      "cell_type": "code",
      "source": [
        "\n",
        "def vandermonde (N):\n",
        "  vec=np.arange(N)+1\n",
        "  power=np.arange(N)\n",
        "  power=np.matrix(power).T\n",
        "  vander=vec**power\n",
        "  return vander.T\n"
      ],
      "metadata": {
        "id": "aGX2L_MjZtzF"
      },
      "execution_count": 113,
      "outputs": []
    },
    {
      "cell_type": "code",
      "source": [
        "# 3.a\n",
        "\n",
        "vander=vandermonde(12)\n",
        "print(vander)"
      ],
      "metadata": {
        "colab": {
          "base_uri": "https://localhost:8080/",
          "height": 0
        },
        "id": "4Zi-NQc6nIfo",
        "outputId": "70877d1a-b9d8-4673-e136-c087f481d92c"
      },
      "execution_count": 114,
      "outputs": [
        {
          "output_type": "stream",
          "name": "stdout",
          "text": [
            "[[           1            1            1            1            1\n",
            "             1            1            1            1            1\n",
            "             1            1]\n",
            " [           1            2            4            8           16\n",
            "            32           64          128          256          512\n",
            "          1024         2048]\n",
            " [           1            3            9           27           81\n",
            "           243          729         2187         6561        19683\n",
            "         59049       177147]\n",
            " [           1            4           16           64          256\n",
            "          1024         4096        16384        65536       262144\n",
            "       1048576      4194304]\n",
            " [           1            5           25          125          625\n",
            "          3125        15625        78125       390625      1953125\n",
            "       9765625     48828125]\n",
            " [           1            6           36          216         1296\n",
            "          7776        46656       279936      1679616     10077696\n",
            "      60466176    362797056]\n",
            " [           1            7           49          343         2401\n",
            "         16807       117649       823543      5764801     40353607\n",
            "     282475249   1977326743]\n",
            " [           1            8           64          512         4096\n",
            "         32768       262144      2097152     16777216    134217728\n",
            "    1073741824   8589934592]\n",
            " [           1            9           81          729         6561\n",
            "         59049       531441      4782969     43046721    387420489\n",
            "    3486784401  31381059609]\n",
            " [           1           10          100         1000        10000\n",
            "        100000      1000000     10000000    100000000   1000000000\n",
            "   10000000000 100000000000]\n",
            " [           1           11          121         1331        14641\n",
            "        161051      1771561     19487171    214358881   2357947691\n",
            "   25937424601 285311670611]\n",
            " [           1           12          144         1728        20736\n",
            "        248832      2985984     35831808    429981696   5159780352\n",
            "   61917364224 743008370688]]\n"
          ]
        }
      ]
    },
    {
      "cell_type": "code",
      "source": [
        "# 3.b\n",
        "\n",
        "vander=vander.T\n",
        "x=np.ones(12)\n",
        "x=x.T\n",
        "b=np.matmul(vander,x)\n",
        "print(\"b = \",b)"
      ],
      "metadata": {
        "colab": {
          "base_uri": "https://localhost:8080/",
          "height": 0
        },
        "id": "0LSOTplmbHnH",
        "outputId": "6e453393-2561-42d0-921b-71163f191d37"
      },
      "execution_count": 115,
      "outputs": [
        {
          "output_type": "stream",
          "name": "stdout",
          "text": [
            "b =  [[1.20000000e+01 7.80000000e+01 6.50000000e+02 6.08400000e+03\n",
            "  6.07100000e+04 6.30708000e+05 6.73595000e+06 7.33994040e+07\n",
            "  8.12071910e+08 9.09203303e+09 1.02769131e+11 1.17068436e+12]]\n"
          ]
        }
      ]
    },
    {
      "cell_type": "code",
      "source": [
        "# 3.c\n",
        "xn=np.linalg.inv(vander)\n",
        "b=b.T\n",
        "result=np.matmul(xn,b)\n",
        "print(\"result: \",result.T)"
      ],
      "metadata": {
        "colab": {
          "base_uri": "https://localhost:8080/",
          "height": 0
        },
        "id": "Fx-sFXwfnf3-",
        "outputId": "22e37951-a19d-4fca-9811-56dfd410f7b1"
      },
      "execution_count": 116,
      "outputs": [
        {
          "output_type": "stream",
          "name": "stdout",
          "text": [
            "result:  [[1.40164465 0.59611278 1.00202715 1.00117254 0.9974848  1.00318933\n",
            "  0.99717116 1.00180864 0.99918208 1.00024882 0.99995425 1.00000385]]\n"
          ]
        }
      ]
    },
    {
      "cell_type": "code",
      "source": [
        "# 3.d\n",
        "res2=np.linalg.solve(vander,b)\n",
        "print(\"result: \",res2.T)"
      ],
      "metadata": {
        "id": "PaV02AKUbd74",
        "colab": {
          "base_uri": "https://localhost:8080/",
          "height": 0
        },
        "outputId": "33a0ff0d-650e-4005-febf-df274c86959d"
      },
      "execution_count": 117,
      "outputs": [
        {
          "output_type": "stream",
          "name": "stdout",
          "text": [
            "result:  [[0.99997509 1.00022004 0.99910211 1.0022556  0.99613289 1.00472989\n",
            "  0.99580438 1.00269135 0.99877921 1.00037229 0.99993139 1.00000578]]\n"
          ]
        }
      ]
    },
    {
      "cell_type": "markdown",
      "source": [
        "https://github.com/JeevanJayakumar/Jeevan_24-14-13/blob/main/Assn2_Jeevan_Jayakumar_24_14_13.ipynb\n"
      ],
      "metadata": {
        "id": "swkVEccczVlU"
      }
    }
  ],
  "metadata": {
    "colab": {
      "provenance": [],
      "authorship_tag": "ABX9TyNSo8vQJ9AqICEv3W/sMoTH",
      "include_colab_link": true
    },
    "kernelspec": {
      "display_name": "Python 3",
      "name": "python3"
    },
    "language_info": {
      "name": "python"
    }
  },
  "nbformat": 4,
  "nbformat_minor": 0
}